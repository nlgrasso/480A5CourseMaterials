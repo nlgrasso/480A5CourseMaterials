{
  "cells": [
    {
      "cell_type": "markdown",
      "metadata": {},
      "source": [
        "<html>\n",
        "    <summary></summary>\n",
        "         <div> <p></p> </div>\n",
        "         <div style=\"font-size: 20px; width: 800px;\"> \n",
        "              <h1>\n",
        "               <left>Stoichiometries, Propensities, and ODE Models</left>\n",
        "              </h1>\n",
        "              <p><left>============================================================================</left> </p>\n",
        "<pre>Course: BIOM 480A5, Spring 2025\n",
        "Instructor: Brian Munsky\n",
        "Authors: Dr. Michael May, Joshua Cook, Brian Munsky\n",
        "Contact Info: munsky@colostate.edu\n",
        "</pre>\n",
        "         </div>\n",
        "    </p>\n",
        "\n",
        "</html>\n",
        "\n",
        "<details>\n",
        "  <summary>Copyright info</summary>\n",
        "\n",
        "```\n",
        "Copyright 2024 Brian Munsky\n",
        "\n",
        "Redistribution and use in source and binary forms, with or without modification, are permitted provided that the following conditions are met:\n",
        "\n",
        "1. Redistributions of source code must retain the above copyright notice, this list of conditions and the following disclaimer.\n",
        "\n",
        "2. Redistributions in binary form must reproduce the above copyright notice, this list of conditions and the following disclaimer in the documentation and/or other materials provided with the distribution.\n",
        "\n",
        "3. Neither the name of the copyright holder nor the names of its contributors may be used to endorse or promote products derived from this software without specific prior written permission.\n",
        "\n",
        "THIS SOFTWARE IS PROVIDED BY THE COPYRIGHT HOLDERS AND CONTRIBUTORS \"AS IS\" AND ANY EXPRESS OR IMPLIED WARRANTIES, INCLUDING, BUT NOT LIMITED TO, THE IMPLIED WARRANTIES OF MERCHANTABILITY AND FITNESS FOR A PARTICULAR PURPOSE ARE DISCLAIMED. IN NO EVENT SHALL THE COPYRIGHT HOLDER OR CONTRIBUTORS BE LIABLE FOR ANY DIRECT, INDIRECT, INCIDENTAL, SPECIAL, EXEMPLARY, OR CONSEQUENTIAL DAMAGES (INCLUDING, BUT NOT LIMITED TO, PROCUREMENT OF SUBSTITUTE GOODS OR SERVICES; LOSS OF USE, DATA, OR PROFITS; OR BUSINESS INTERRUPTION) HOWEVER CAUSED AND ON ANY THEORY OF LIABILITY, WHETHER IN CONTRACT, STRICT LIABILITY, OR TORT (INCLUDING NEGLIGENCE OR OTHERWISE) ARISING IN ANY WAY OUT OF THE USE OF THIS SOFTWARE, EVEN IF ADVISED OF THE POSSIBILITY OF SUCH DAMAGE.\n",
        "```\n",
        "<details>\n",
        "\n"
      ]
    },
    {
      "cell_type": "code",
      "execution_count": null,
      "metadata": {
        "id": "7nW6rkHZHBCC"
      },
      "outputs": [],
      "source": [
        "import numpy as np\n",
        "import matplotlib.pyplot as plt\n",
        "import numpy as np\n",
        "from scipy.integrate import odeint\n",
        "figSize=800"
      ]
    },
    {
      "cell_type": "markdown",
      "metadata": {
        "id": "dO11YLrWWC4u"
      },
      "source": [
        "---\n",
        "# *Learning Objectives*\n",
        "\n",
        "---\n",
        "Stoichiometries and Propensities can be used to model temporal dynamics using coupled ODEs.\n",
        "\n",
        "After this workbook students should be able to:\n",
        "* Describe the meaning and use of **Stoichiometry Vectors** and **Propensity Functions**.\n",
        "* Draw simple cartoons to represent biochemical reactions and define Stoichiometry Vectors .\n",
        "* Derive the functional form of propensity functions using the **Law of Mass Action**.\n",
        "* Write python codes to compute propensity functions from rate constants and chemical system states.\n",
        "* Define and solve for the mean field solution (dx/dt rate equation) using know stoichiometry vectors and propensity functions.\n",
        "* Describe and computationally analyze how parameters and reaction orders influence the **steady-state** or **quasi-steady state equilibria**\n",
        "* Describe and make **phase-space diagrams** and **quiver plots** to illustrate chemical process dynamics."
      ]
    },
    {
      "cell_type": "markdown",
      "metadata": {
        "id": "tdMVX0Ce-y5d"
      },
      "source": [
        "![alt text](Figures/StoichiometryAndPropensity_2023/Slide2.png)"
      ]
    },
    {
      "cell_type": "markdown",
      "metadata": {
        "id": "I1bGnG-q-8WE"
      },
      "source": [
        "![alt text](Figures/StoichiometryAndPropensity_2023/Slide3.png)"
      ]
    },
    {
      "cell_type": "markdown",
      "metadata": {
        "id": "Og9HH78c_Dgt"
      },
      "source": [
        "![alt text](Figures/StoichiometryAndPropensity_2023/Slide4.png)"
      ]
    },
    {
      "cell_type": "markdown",
      "metadata": {
        "id": "YEV4vxe2_Jj_"
      },
      "source": [
        "![alt text](Figures/StoichiometryAndPropensity_2023/Slide5.png)"
      ]
    },
    {
      "cell_type": "markdown",
      "metadata": {
        "id": "xvnNILj-_P9D"
      },
      "source": [
        "![alt text](Figures/StoichiometryAndPropensity_2023/Slide6.png)"
      ]
    },
    {
      "cell_type": "markdown",
      "metadata": {
        "id": "iLE_vzLK_VQR"
      },
      "source": [
        "![alt text](Figures/StoichiometryAndPropensity_2023/Slide7.png)"
      ]
    },
    {
      "cell_type": "markdown",
      "metadata": {},
      "source": [
        "![alt text](image-1.png)"
      ]
    },
    {
      "cell_type": "markdown",
      "metadata": {
        "id": "1-DlI4Gk_bBt"
      },
      "source": [
        "![alt text](Figures/StoichiometryAndPropensity_2023/Slide9.png)"
      ]
    },
    {
      "cell_type": "markdown",
      "metadata": {
        "id": "2Zw-_d7u_jW_"
      },
      "source": [
        "![alt text](Figures/StoichiometryAndPropensity_2023/Slide10.png)"
      ]
    },
    {
      "cell_type": "markdown",
      "metadata": {
        "id": "_fEu8m3A_pOy"
      },
      "source": [
        "![alt text](Figures/StoichiometryAndPropensity_2023/Slide11.png)"
      ]
    },
    {
      "cell_type": "markdown",
      "metadata": {
        "id": "lG5DIJUg_0KS"
      },
      "source": [
        "![alt text](Figures/StoichiometryAndPropensity_2023/Slide13.png)"
      ]
    },
    {
      "cell_type": "markdown",
      "metadata": {
        "id": "rpyXOxkv_7s_"
      },
      "source": [
        "![alt text](Figures/StoichiometryAndPropensity_2023/Slide14.png)"
      ]
    },
    {
      "cell_type": "markdown",
      "metadata": {
        "id": "4Eu0X4EsAD4c"
      },
      "source": [
        "![alt text](Figures/StoichiometryAndPropensity_2023/Slide15.png)"
      ]
    },
    {
      "cell_type": "markdown",
      "metadata": {
        "id": "4tVluzryANGV"
      },
      "source": [
        "![alt text](Figures/StoichiometryAndPropensity_2023/Slide18.png)"
      ]
    },
    {
      "cell_type": "markdown",
      "metadata": {
        "id": "RHDzRCVDAWVQ"
      },
      "source": [
        "![alt text](Figures/StoichiometryAndPropensity_2023/Slide19.png)"
      ]
    },
    {
      "cell_type": "markdown",
      "metadata": {
        "id": "GBYJI4T4Ac7I"
      },
      "source": [
        "![alt text](Figures/StoichiometryAndPropensity_2023/Slide20.png)"
      ]
    },
    {
      "cell_type": "markdown",
      "metadata": {
        "id": "nhgktnkgGPiC"
      },
      "source": [
        "# Examples In Python"
      ]
    },
    {
      "cell_type": "markdown",
      "metadata": {
        "id": "h6n5ADoyWE0U"
      },
      "source": [
        "---\n",
        "# **Problem 1: Birth-Decay Process for Protein Synthesis**\n",
        "---"
      ]
    },
    {
      "cell_type": "markdown",
      "metadata": {},
      "source": [
        "![alt text](Figures/StoichiometryAndPropensity_2023/Slide27.png)"
      ]
    },
    {
      "cell_type": "markdown",
      "metadata": {
        "id": "2sM_NxgAHhoY"
      },
      "source": [
        "**Problem 1**: A Simple Model of Consititutive Gene Expression.\n",
        "\n",
        "*Step 1* Define the State of the model and specify the initial conditions."
      ]
    },
    {
      "cell_type": "code",
      "execution_count": null,
      "metadata": {
        "id": "WENvpGc7FZSi"
      },
      "outputs": [],
      "source": [
        "# Here we have a single species (N=1) that starts at x0 = 10 mg/mL\n",
        "x0=np.array([10])"
      ]
    },
    {
      "cell_type": "markdown",
      "metadata": {},
      "source": [
        "*Step 2* Determine how many reactions there are -- just two (M=2) in this case.\n",
        "\n",
        "*Step 3* Determine the stoichiometry matrix:"
      ]
    },
    {
      "cell_type": "code",
      "execution_count": null,
      "metadata": {},
      "outputs": [],
      "source": [
        "# Define the stoichiometry matrix as a 1 (species) by 2 (reaction) numpy array,\n",
        "S=np.array([1,-1])"
      ]
    },
    {
      "cell_type": "markdown",
      "metadata": {},
      "source": [
        "*Step 4* Define the propensity functions.\n",
        "\n",
        "Using the parameters t0=0, k1=0.8, and k2 = 0.02, define the propensity as a function of time and state W(x,t). W(x,t) should return a M=2 by 1 numpy vector describing the rate of production in the first term and the rate of decay in the second term."
      ]
    },
    {
      "cell_type": "code",
      "execution_count": null,
      "metadata": {},
      "outputs": [],
      "source": [
        "# Define the reaction rate parameters as a dictionary\n",
        "pars = {'k1': 0.8*5., 'k2': 0.02*5.}\n",
        "# Units are:  k1 = (mg/mL) / minute\n",
        "#             k2 = 1 / minute\n",
        "\n",
        "# Define the reaction rate (propensity) functions\n",
        "def W(x,t,pars=pars):\n",
        "  return np.array([pars['k1'],pars['k2']*x[0]]) #######Replace with correct answer#######"
      ]
    },
    {
      "cell_type": "markdown",
      "metadata": {},
      "source": [
        "*Step 5* Formulate the Right Hand Side of the ODE: dx/dt = S*W(x,t)"
      ]
    },
    {
      "cell_type": "code",
      "execution_count": null,
      "metadata": {},
      "outputs": [],
      "source": [
        "# Define the RHS of the ODE:\n",
        "def dxdt(x,t,pars=pars):\n",
        "  return S @ W(x,t,pars=pars)"
      ]
    },
    {
      "cell_type": "markdown",
      "metadata": {
        "id": "prnlBmAsVZDW"
      },
      "source": [
        "*Stpe 6* Slve the initial value problem.\n",
        "\n",
        "Use `odeint` to numerically solve the differenetial equation given by: dx/dt = S * w(t,x), with an intial time of 0, final time of 200 using the same k1 and k2 above. Make a plot of x[0] over time. Use an initial condition of x=[0]."
      ]
    },
    {
      "cell_type": "code",
      "execution_count": null,
      "metadata": {
        "colab": {
          "base_uri": "https://localhost:8080/"
        },
        "id": "WAgAiMwjHbWu",
        "outputId": "ec833154-600b-497d-9e32-ac79f68887f0"
      },
      "outputs": [],
      "source": [
        "# Define the integration time span\n",
        "timeSpan=np.linspace(0,200,201)\n",
        "\n",
        "for x0 in [10,20,30,40,50,60]:\n",
        "  # Integrate the ODE for different initial conditions\n",
        "  trajectory=odeint(dxdt,np.array(x0),timeSpan)\n",
        "\n",
        "  # Plot the results\n",
        "  plt.plot(timeSpan,trajectory,label=f'x0={x0} mg/mL')\n",
        "\n",
        "plt.xlabel('Time (minutes)')\n",
        "plt.ylabel('Concentration (mg/mL)')\n",
        "plt.legend()"
      ]
    },
    {
      "cell_type": "markdown",
      "metadata": {
        "id": "Kv3QVj4DB5K-"
      },
      "source": [
        "# Example 2 - \"Bursting\" Gene Expression\n",
        "![alt text](Figures/StoichiometryAndPropensity_2023/Slide29.png)"
      ]
    },
    {
      "cell_type": "code",
      "execution_count": null,
      "metadata": {},
      "outputs": [],
      "source": [
        "# Step 1: The number of species is 3:  'OFF', 'ON', 'Protein'\n",
        "#         The initial conditions are:  x0 = [1, 0, 0]\n",
        "#         The initial condition corresponds to 1 molecule of 'OFF' and 0 molecules of 'ON' and 'Protein'\n",
        "#         The initial condition is defined as a 3 x 1 numpy array:\n",
        "x0 = np.array([1, 0, 0])\n",
        "\n",
        "# Step 2: The number of reactions is 4:\n",
        "#         R1:  OFF -> ON\n",
        "#         R2:  ON -> OFF\n",
        "#         R3:  ON -> ON + Protein\n",
        "#         R4:  Protein -> null\n",
        "\n",
        "# Step 3: The stoichiometry matrix is a 3 x 4 matrix:\n",
        "#         Rows correspond to species and columns correspond to reactions.\n",
        "#         The matrix is defined as follows:\n",
        "S = [[-1, 1, 0, 0],\n",
        "        [1, -1, 0, 0],\n",
        "        [0, 0, 1, -1]]\n",
        "\n",
        "# Step 4: Define the reaction rate parameters as a dictionary\n",
        "pars = {'kon': 0.2, 'koff': 0.5, 'kP': 10, 'gam': 0.1}\n",
        "def W(x,t,pars=pars):\n",
        "  return np.array([pars['kon']*x[0],\n",
        "                   pars['koff']*x[1],\n",
        "                   pars['kP']*x[1],\n",
        "                   pars['gam']*x[2]])\n",
        "\n",
        "# Step 5: Define the RHS of the ODE:\n",
        "def dxdt(x,t,pars=pars):\n",
        "  return (S @ W(x,t,pars=pars)).flatten()"
      ]
    },
    {
      "cell_type": "code",
      "execution_count": null,
      "metadata": {},
      "outputs": [],
      "source": [
        "# Step 6: Solve the initial value problem.\n",
        "# Define the integration time span\n",
        "timeSpan=np.linspace(0,200,201)\n",
        "\n",
        "# Integrate the ODE for different initial conditions\n",
        "trajectory=odeint(dxdt,x0,timeSpan)\n",
        "\n",
        "# Plot the results with the first two species in the same plot and the third species in a separate plot\n",
        "fig, ax = plt.subplots(1,2,figsize=(8,4))\n",
        "\n",
        "ax[0].plot(timeSpan,trajectory[:,0],label='OFF')\n",
        "ax[0].plot(timeSpan,trajectory[:,1],label='ON')\n",
        "ax[0].set_xlabel('Time (minutes)')\n",
        "ax[0].set_ylabel('Concentration')\n",
        "\n",
        "ax[1].plot(timeSpan,trajectory[:,2],label='Protein')\n",
        "ax[1].set_xlabel('Time (minutes)')\n",
        "ax[1].set_ylabel('Concentration')\n",
        "plt.legend()\n",
        "plt.show()\n"
      ]
    },
    {
      "cell_type": "markdown",
      "metadata": {
        "id": "Sx6MwTcAWnAR"
      },
      "source": [
        "---\n",
        "\n",
        "# **Problem 2: Quasi-SteadyState Analysis of Michaelis-Menten Dynamics**\n",
        "\n",
        "Michaelis-Menten dyanamics can be analysed using two different methods, the full system using the Law of Mass Action, and simplfied system using the Quasi-Steady state assumption. But as we will see, this is only accurate under certain paramter combinations.\n",
        "\n",
        "## Part 1.  Enzyme-substrate reactions using the full LMA. \n",
        "![alt text](Figures/StoichiometryAndPropensity_2023/Slide23.png)"
      ]
    },
    {
      "cell_type": "code",
      "execution_count": null,
      "metadata": {},
      "outputs": [],
      "source": [
        "# Step 1: The number of species is 4: 'E', 'S', 'ES', 'P'\n",
        "#         The initial conditions are:  x0 = [100, 1000, 0, 0]\n",
        "#         The initial condition corresponds to 100 molecules of 'E' and 'S' and 0 molecules of 'ES' and 'P'\n",
        "#         The initial condition is defined as a 4 x 1 numpy array:\n",
        "x0 = np.array([100, 1000, 0, 0])\n",
        "\n",
        "# Step 2: The number of reactions is 4:\n",
        "#         R1:  E + S -> ES\n",
        "#         R2:  ES -> E + S\n",
        "#         R3:  ES -> E + P\n",
        "#         R4:  P -> null\n",
        "\n",
        "# Step 3: The stoichiometry matrix is a 4 x 4 matrix:\n",
        "#         Rows correspond to species and columns correspond to reactions.\n",
        "#         The matrix is defined as follows:\n",
        "S = [   [-1, 1, 1, 0],\n",
        "        [-1, 1, 0, 0],\n",
        "        [1, -1, -1, 0],\n",
        "        [0, 0, 1, -1]]\n",
        "\n",
        "# Step 4: Define the reaction rate parameters as a dictionary\n",
        "pars = {'k1': 0.01, 'k2': 0.5, 'k3': 0.05, 'k4': 0.01}\n",
        "def W(x,t,pars=pars):\n",
        "  return np.array([pars['k1']*x[0]*x[1],\n",
        "                   pars['k2']*x[2],\n",
        "                   pars['k3']*x[2],\n",
        "                   pars['k4']*x[3]])\n",
        "\n",
        "# Step 5: Define the RHS of the ODE:\n",
        "def dxdt(x,t,pars=pars):\n",
        "  return (S @ W(x,t,pars=pars)).flatten()"
      ]
    },
    {
      "cell_type": "code",
      "execution_count": null,
      "metadata": {},
      "outputs": [],
      "source": [
        "# Step 6: Solve the initial value problem.\n",
        "# Define the integration time span\n",
        "timeSpan=np.linspace(0,200,201)\n",
        "\n",
        "# integrate the ODE starting at the initial conditions\n",
        "trajectory=odeint(dxdt,np.array([100,1000,0,0]),timeSpan)\n",
        "\n",
        "# Plot the results\n",
        "fig, ax = plt.subplots(1,2,figsize=(8,4))\n",
        "ax[0].plot(timeSpan,trajectory[:,0],label='E')\n",
        "ax[0].plot(timeSpan,trajectory[:,2],label='ES')\n",
        "ax[0].set_xlabel('Time (minutes)')\n",
        "ax[0].set_ylabel('Concentration')\n",
        "ax[0].legend()\n",
        "\n",
        "ax[1].plot(timeSpan,trajectory[:,1],label='S')\n",
        "ax[1].plot(timeSpan,trajectory[:,3],label='P')\n",
        "ax[1].set_xlabel('Time (minutes)')\n",
        "ax[1].set_ylabel('Concentration')\n",
        "ax[1].legend()\n",
        "plt.show()"
      ]
    },
    {
      "cell_type": "markdown",
      "metadata": {},
      "source": [
        "## Example 3.  Enzyme-substrate reactions using the Michaelis-Menten Quasi-Steady State Assumption\n",
        "\n",
        "![alt text](Figures/StoichiometryAndPropensity_2023/Slide24A.png)"
      ]
    },
    {
      "cell_type": "code",
      "execution_count": null,
      "metadata": {},
      "outputs": [],
      "source": [
        "# Step 1: The number of species is 2: 'S', 'P'\n",
        "#         The initial conditions are:  y0 = [1000, 0]\n",
        "#         The initial condition corresponds to 100 molecules of 'E' and 'S' and 0 molecules of 'ES' and 'P'\n",
        "#         The initial condition is defined as a 4 x 1 numpy array:\n",
        "y0 = np.array([x0[1],x0[3]])\n",
        "\n",
        "# Step 2: The number of reactions is 2:\n",
        "#         R1:  S -> P\n",
        "#         R2:  P -> null\n",
        "\n",
        "# Step 3: The stoichiometry matrix is a 2 x 2 matrix:\n",
        "#         Rows correspond to species and columns correspond to reactions.\n",
        "#         The matrix is defined as follows:\n",
        "Sy = [   [-1, 0],\n",
        "        [1, -1]]\n",
        "\n",
        "# Step 4: Tjhe parameters are the same as before, but the reaction rates are different\n",
        "def Wy(y,t,pars=pars):\n",
        "  return np.array([pars['k3']*pars['k1']*x0[0]*y[0]/(pars['k1']*y[0]+pars['k2']),\n",
        "                     pars['k4']*y[1]])\n",
        "\n",
        "# Step 5: Define the RHS of the ODE:\n",
        "def dydt(y,t,pars=pars):\n",
        "  return (Sy @ Wy(y,t,pars=pars)).flatten()"
      ]
    },
    {
      "cell_type": "code",
      "execution_count": null,
      "metadata": {},
      "outputs": [],
      "source": [
        "# Step 6: Solve the initial value problem.\n",
        "# integrate the ODE starting at the initial conditions\n",
        "new_trajectory=odeint(dydt,y0,timeSpan)\n",
        "\n",
        "# Plot the results and compare with the previous results\n",
        "plt.plot(timeSpan,trajectory[:,1]+trajectory[:,2],label='S',color='red',linestyle='-')\n",
        "plt.plot(timeSpan,new_trajectory[:,0],label='S_{QSSA}',color='red',linestyle='--')\n",
        "plt.plot(timeSpan,trajectory[:,3],label='P',color='blue',linestyle='-')\n",
        "plt.plot(timeSpan,new_trajectory[:,1],label='P_{QSSA}',color='blue',linestyle='--')\n",
        "\n",
        "plt.xlabel('Time (minutes)')\n",
        "plt.ylabel('Concentration')\n",
        "plt.legend()\n",
        "plt.show()\n"
      ]
    },
    {
      "cell_type": "markdown",
      "metadata": {
        "id": "XzY_4-KqBDDd"
      },
      "source": [
        "---\n",
        "\n",
        "# **Example 4: LacI-Lambda-cl Toggle Switch Bifurcation**\n",
        "\n",
        "Toggle stiches are a system in which the system can toggle between two different stable points. A plasmid can be used to make a LacI and Lambda-cl repress each other. When one becomes highly expressed, it will inhibit the production of the other one, but this dynamic can be reversed, creating a toggle that changes depending on the initial state of the system. Analysing the dynamics of this system will be better understood in \"phase space\".\n",
        "\n",
        "![alt text](Figures/StoichiometryAndPropensity_2023/Slide32a.png)"
      ]
    },
    {
      "cell_type": "code",
      "execution_count": null,
      "metadata": {
        "id": "GL30n98LtNou"
      },
      "outputs": [],
      "source": [
        "# Step 1: The number of species is 2: 'LacI', 'LambdaCI'\n",
        "#         The initial conditions are:  x0 = [10, 100]\n",
        "#         The initial condition corresponds to 10 molecules of 'LacI' and 100 of 'LambdaCI'\n",
        "#         The initial condition is defined as a 2 x 1 numpy array:\n",
        "x0 = np.array([10, 100])\n",
        "\n",
        "# Step 2: The number of reactions is 4:\n",
        "#         R1:  null -> LacI\n",
        "#         R2:  null -> LambdaCI\n",
        "#         R3:  LacI -> null\n",
        "#         R4:  LambdaCI -> null\n",
        "\n",
        "# Step 3: The stoichiometry matrix is a 2 x 4 matrix:\n",
        "#         Rows correspond to species and columns correspond to reactions.\n",
        "#         The matrix is defined as follows:\n",
        "S = [   [1, 0, -1, 0],\n",
        "        [0, 1, 0, -1]]\n",
        "\n",
        "# Step 4: Define the reaction rate parameters as a dictionary\n",
        "pars = {'k11': 0.02, 'k12': 1.2, 'a1': 10, 'eta1': 2, 'gamma1':0.02,\n",
        "        'k21': 0.02, 'k22': 1.2, 'a2': 10, 'eta2': 2, 'gamma2':0.02}\n",
        "def W(x,t,pars=pars):\n",
        "  return np.array([ pars['k11'] + pars['k12']/(1+(x[1]/pars['a1'])**pars['eta1']),\n",
        "                    pars['k21'] + pars['k22']/(1+(x[0]/pars['a2'])**pars['eta2']),\n",
        "                    pars['gamma1']*x[0],\n",
        "                    pars['gamma2']*x[1]])          \n",
        "\n",
        "# Step 5: Define the RHS of the ODE:\n",
        "def dxdt(x,t,pars=pars):\n",
        "  return (S @ W(x,t,pars=pars)).flatten()"
      ]
    },
    {
      "cell_type": "markdown",
      "metadata": {
        "id": "ILxkbDPre32P"
      },
      "source": [
        "**Phase Plots** \n",
        "\n",
        "Let's make a vector field of dxdt(x,t) over a grid of points from 0 to 40 in x1 and x2. \n",
        "We will plot the vector field using the _plt.quiver_ function."
      ]
    },
    {
      "cell_type": "code",
      "execution_count": null,
      "metadata": {
        "colab": {
          "base_uri": "https://localhost:8080/"
        },
        "id": "KC8w1n9nvUaf",
        "outputId": "474e915a-f498-4bf7-abb6-0ae7bd75566b"
      },
      "outputs": [],
      "source": [
        "# Create a grid of points in X and Y\n",
        "xRange=np.arange(0,70,2)\n",
        "yRange=np.arange(0,70,2)\n",
        "[X,Y]=np.meshgrid(xRange,yRange)\n",
        "\n",
        "# Compute the rate of change at each point in the grid\n",
        "dx1dt=np.zeros([len(xRange),len(yRange)])\n",
        "dx2dt=np.zeros([len(xRange),len(yRange)])\n",
        "for i in range(len(xRange)):\n",
        "  for j in range(len(yRange)):\n",
        "    rate=dxdt([xRange[i],yRange[j]],0)\n",
        "    dx1dt[i,j]=rate[0]\n",
        "    dx2dt[i,j]=rate[1]"
      ]
    },
    {
      "cell_type": "code",
      "execution_count": null,
      "metadata": {
        "id": "v-z45_4zwkoG"
      },
      "outputs": [],
      "source": [
        "# Make a controur plot showing the rate of change at each point in the grid\n",
        "# On top of that show a quiver plot for the resulting vectors.\n",
        "fig, ax = plt.subplots(figsize =(8, 8))\n",
        "ax.contourf(X,Y,np.sqrt(dx1dt**2+dx2dt**2),levels=20, cmap='bone')\n",
        "ax.quiver(X,Y,dx2dt,dx1dt)"
      ]
    },
    {
      "cell_type": "markdown",
      "metadata": {
        "id": "zIiCCqAtfM_Y"
      },
      "source": [
        "*Step 6* Integrate to solve the initial value problem"
      ]
    },
    {
      "cell_type": "code",
      "execution_count": null,
      "metadata": {
        "id": "xQzqd0tBxPp0"
      },
      "outputs": [],
      "source": [
        "# Here we will solve for the trajectories starting from multiple initial conditions\n",
        "initialStates=[np.array([10,65]),np.array([20,65]),np.array([30,65]),np.array([40,60]),\n",
        "              np.array([50,50]),np.array([60,40]),np.array([65,30]),np.array([65,20]),np.array([65,10]),\n",
        "              np.array([0,0]),np.array([0,10]),np.array([10,0]),np.array([20,0]),np.array([0,20])]\n",
        "\n",
        "# Define the integration time span\n",
        "timeSpan=np.linspace(0,800,2001)\n",
        "\n",
        "# Iterate over the initial conditions and solve the ODE\n",
        "toggleTrajectories = []\n",
        "for x0 in initialStates:\n",
        "  toggleTrajectories.append(odeint(dxdt,x0,timeSpan))"
      ]
    },
    {
      "cell_type": "code",
      "execution_count": null,
      "metadata": {
        "colab": {
          "base_uri": "https://localhost:8080/",
          "height": 693
        },
        "id": "UZi20rPXy-vd",
        "outputId": "bae68e0d-3f31-4cdc-e3a3-9413ced2959b"
      },
      "outputs": [],
      "source": [
        "fig, ax = plt.subplots(1,2, figsize =(14,6))\n",
        "ax[0].contourf(X,Y,np.sqrt(dx1dt**2+dx2dt**2),levels=20, cmap='bone')\n",
        "ax[0].quiver(X,Y,dx2dt,dx1dt)\n",
        "\n",
        "# Add the trajectorties over top.\n",
        "for trajectory in toggleTrajectories:\n",
        "  ax[0].plot(trajectory[:,1],trajectory[:,0])\n",
        "  ax[1].plot(timeSpan,trajectory[:,0],'--', label=f'LacI; x0={trajectory[0,:]}')\n",
        "  ax[1].plot(timeSpan,trajectory[:,0],'-', label=f'$\\lambda$CI; x0={trajectory[0,:]}')\n",
        "\n",
        "\n",
        "ax[0].set_xlabel('LambdaCI')\n",
        "ax[0].set_ylabel('LacI')\n",
        "ax[1].set_xlabel('time')\n",
        "ax[1].legend()\n",
        "plt.show()\n",
        "\n"
      ]
    },
    {
      "cell_type": "markdown",
      "metadata": {},
      "source": [
        "# Adding Time-Varying Inputs\n",
        "\n",
        "For many biological problems we are interested in how cells respond to environmental stimuli (e.g., drugs or changes in nutrients).\n",
        "\n",
        "All of the analyese above are very easilly changed to allow for such circumstances.  \n",
        "\n",
        "To see this, let's look again at the toggle switch but now in a situation where the degradation depends on an external control signal. "
      ]
    },
    {
      "cell_type": "code",
      "execution_count": null,
      "metadata": {},
      "outputs": [],
      "source": [
        "def u(t):\n",
        "  return 0.01*(t>250)\n",
        "\n",
        "def Wcontrol(x,t,pars=pars):\n",
        "  return np.array([ pars['k11'] + pars['k12']/(1+(x[1]/pars['a1'])**pars['eta1']),\n",
        "                    pars['k21'] + pars['k22']/(1+(x[0]/pars['a2'])**pars['eta2']),\n",
        "                    (pars['gamma1']+u(t))*x[0],\n",
        "                    pars['gamma2']*x[1]])          \n",
        "\n",
        "# Step 5: Define the RHS of the ODE:\n",
        "def dxdtControl(x,t,pars=pars):\n",
        "  return (S @ Wcontrol(x,t,pars=pars)).flatten()"
      ]
    },
    {
      "cell_type": "code",
      "execution_count": null,
      "metadata": {},
      "outputs": [],
      "source": [
        "# Iterate over the initial conditions and solve the ODE\n",
        "toggleTrajectoriesControl = []\n",
        "for x0 in initialStates:\n",
        "  toggleTrajectoriesControl.append(odeint(dxdtControl,x0,timeSpan))"
      ]
    },
    {
      "cell_type": "code",
      "execution_count": null,
      "metadata": {},
      "outputs": [],
      "source": [
        "fig, ax = plt.subplots(1,2, figsize =(14,6))\n",
        "\n",
        "# Add the trajectorties over top.\n",
        "for trajectory in toggleTrajectoriesControl:\n",
        "  ax[0].plot(trajectory[:,1],trajectory[:,0])\n",
        "  ax[1].plot(timeSpan,trajectory[:,0],'--', label=f'LacI; x0={trajectory[0,:]}')\n",
        "  ax[1].plot(timeSpan,trajectory[:,0],'-', label=f'$\\lambda$CI; x0={trajectory[0,:]}')\n",
        "\n",
        "ax[0].set_xlabel('LambdaCI')\n",
        "ax[0].set_ylabel('LacI')\n",
        "ax[1].set_xlabel('time')\n",
        "ax[1].legend()\n",
        "plt.show()\n",
        "\n",
        "# Try playing with the time and level of the input signal to see what interesting behaviours you can get."
      ]
    }
  ],
  "metadata": {
    "colab": {
      "provenance": []
    },
    "kernelspec": {
      "display_name": "Python 3",
      "language": "python",
      "name": "python3"
    },
    "language_info": {
      "codemirror_mode": {
        "name": "ipython",
        "version": 3
      },
      "file_extension": ".py",
      "mimetype": "text/x-python",
      "name": "python",
      "nbconvert_exporter": "python",
      "pygments_lexer": "ipython3",
      "version": "3.10.16"
    }
  },
  "nbformat": 4,
  "nbformat_minor": 0
}
