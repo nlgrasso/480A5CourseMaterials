{
 "cells": [
  {
   "cell_type": "markdown",
   "id": "f36450c4",
   "metadata": {},
   "source": [
    "# McNemar’s Test\n",
    "\n",
    "### Mathematical Definition:\n",
    "\n",
    "McNemar’s test is a non-parametric method used to determine whether there are differences in the proportions of a dichotomous trait in matched pairs of subjects. It is particularly appropriate for 2×2 contingency tables where the same subjects are measured twice (e.g., before and after treatment), or where pairs are matched in a case-control study.\n",
    "\n",
    "\n",
    "Given a 2×2 table of the form:\n",
    "\n",
    "|               | Post Positive | Post Negative |\n",
    "|---------------|---------------|----------------|\n",
    "| Pre Positive  | a             | b              |\n",
    "| Pre Negative  | c             | d              |\n",
    "\n",
    "The test focuses only on the discordant pairs (i.e., `b` and `c`), and the test statistic is:\n",
    "\n",
    "χ² = (b - c)² / (b + c)\n",
    "\n",
    "This statistic follows a chi-squared distribution with 1 degree of freedom under the null hypothesis:\n",
    "\n",
    "H₀: p_b = p_c, which assumes no difference in the marginal proportions. Since it is based on a chi-squared distribution, an X2 of greater than 3.841 correlates with a p value of 0.05 (Given a DOF of 1), which indicates a statistically significant change (reject the null). If X2 is less than 3.841, we fail to reject the null hypothesis. \n",
    "\n",
    "### When to Use McNemar’s Test\n",
    "\n",
    "McNemar’s test is most useful when you want to evaluate the effect of an intervention or change over time in a binary outcome, using paired data. For example, a researcher might use this test to determine whether a training program changed participants’ ability to pass a skills assessment (pass/fail) from before to after the program. Because the data points are dependent (each individual is measured twice), standard tests like the chi-squared test of independence are not appropriate. McNemar’s test accounts for this dependency and isolates the effect of change within subjects.\n",
    "\n",
    "### Below is a video illustrating the calculation and use case of a McNemar Test from Reference 2.\n",
    "\n",
    "[![McNemarsTest](data:image/png;base64,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)](https://www.youtube.com/watch?v=p338YiJVi18 \"McNemar's Test\")\n",
    "\n",
    "### References:\n",
    "\n",
    "1. Sundjaja, J. H., Shrestha, R. & Krishan, K. McNemar And Mann-Whitney U Tests. in StatPearls (StatPearls Publishing, Treasure Island (FL), 2025). https://www.ncbi.nlm.nih.gov/books/NBK560699/\n",
    "2. TileStats, The McNemar Test, Youtube. (2021).\n",
    "https://www.youtube.com/watch?v=p338YiJVi18"
   ]
  },
  {
   "cell_type": "code",
   "execution_count": 33,
   "id": "0a405be8",
   "metadata": {},
   "outputs": [
    {
     "name": "stdout",
     "output_type": "stream",
     "text": [
      "Generated 2x2 contingency table: [[155, 107], [74, 188]]\n",
      "McNemar's test p-value: 0.01738129123673501\n"
     ]
    }
   ],
   "source": [
    "from BIOM480Tests import mcnemar\n",
    "import random\n",
    "\n",
    "# Create function that creates a random 2x2 contingency table with random values that satisfy the conditions for McNemar's test\n",
    "def generate_random_table():\n",
    "    N = random.randint(0, 500) # Total number of samples for each group\n",
    "    a = random.randint(0, N)\n",
    "    b = N - a\n",
    "    c = random.randint(0, N)\n",
    "    d = N - c\n",
    "    return [[a, b], \n",
    "            [c, d]]\n",
    "\n",
    "# Generate a random 2x2 contingency table and run McNemar's test\n",
    "table = generate_random_table()\n",
    "print(\"Generated 2x2 contingency table:\", table)\n",
    "p_value = mcnemar(table)\n",
    "print(\"McNemar's test p-value:\", p_value)"
   ]
  }
 ],
 "metadata": {
  "kernelspec": {
   "display_name": "BIOM480A",
   "language": "python",
   "name": "python3"
  },
  "language_info": {
   "codemirror_mode": {
    "name": "ipython",
    "version": 3
   },
   "file_extension": ".py",
   "mimetype": "text/x-python",
   "name": "python",
   "nbconvert_exporter": "python",
   "pygments_lexer": "ipython3",
   "version": "3.10.16"
  }
 },
 "nbformat": 4,
 "nbformat_minor": 5
}
