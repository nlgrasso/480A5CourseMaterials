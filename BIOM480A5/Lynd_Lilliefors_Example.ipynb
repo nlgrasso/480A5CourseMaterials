{
 "cells": [
  {
   "cell_type": "markdown",
   "id": "fe25fe9b",
   "metadata": {},
   "source": [
    "### Lilliefors Test for Normality\n",
    "\n",
    "The Lilliefors test determines if a dataset comes from a normal distribution. It is very similar to the Kolmogorov-Smirnov test, except with the Lilliefors test doesn’t require population parameters like the mean and standard deviation. \n",
    "\n",
    "#### How it works\n",
    "The basic idea is that it computes the empirical cumulative distribution function (ECDF) of the data to then estimate the mean and standard deviation from the sample. It creates a theoretical normal distribution with the calculated mean and standard deviation and compares the ECDF with the cumulative distribution function (CDF) of the normal distribution. The maximum vertical difference between the SCDF and CDF is the test statistic (D). From this difference, one can obtain the p-value by simulations or a table. If the p-value is small (< 0.05) the data is not normally distributed, and if the p-value is large, then it is likely normally distributed. \n",
    "\n",
    "### Mathematical Definition of the Lilliefors Test\n",
    "\n",
    "Let:\n",
    "\n",
    "- $ X_1, X_2, \\dots, X_n $ be your sample data  \n",
    "- $ \\bar{X} $ = sample mean  \n",
    "- $ s $ = sample standard deviation  \n",
    "\n",
    "\n",
    "\n",
    "**1. Compute the Empirical Cumulative Distribution Function (ECDF):**\n",
    "\n",
    "$$\n",
    "F_n(x) = \\frac{1}{n} \\sum_{i=1}^{n} \\mathbf{1}_{X_i \\leq x}\n",
    "$$\n",
    "\n",
    "\n",
    "\n",
    "**2. Construct the theoretical CDF of a normal distribution using sample mean and std dev:**\n",
    "\n",
    "$$\n",
    "F(x) = \\Phi\\left( \\frac{x - \\bar{X}}{s} \\right)\n",
    "$$\n",
    "\n",
    "Where $\\Phi $ is the standard normal CDF.\n",
    "\n",
    "\n",
    "\n",
    "**3. Compute the Lilliefors test statistic $( D )$ as:**\n",
    "\n",
    "$$\n",
    "D = \\sup_x \\left| F_n(x) - F(x) \\right|\n",
    "$$\n",
    "\n",
    "\n",
    "\n",
    "**4. The p-value** is obtained via Monte Carlo simulation or lookup table for the statistic $( D )$.\n",
    "\n",
    "#### Real-world use case:\n",
    "The Lilliefors test is used when a researcher wants to know whether a dataset has a normal distribution or not but does not have the population mean or the standard deviation. Situations like psychology experiments and clinical trials are prime examples of when only the sample data is available, and they need to know if the dataset is normal. A specific example is if a bioengineer obtains patient reaction time data, they might want to use the Lilliefors test to assess normality before doing any other statistical analyses since a lot of statistical methods require you to know whether the data is normal or not.\n",
    "\n",
    "![Illustration of the Lilliefors test comparing ECDF and normal CDF](Lynd_Figure_D3.png)\n",
    "\n",
    "Figure 1: This figure shows how the Lilliefors test compares the sample data (blue step curve) to a normal distribution (black curve). The vertical line labeled D marks the largest difference between the two curves. This difference helps determine if the sample data is likely to come from a normal distribution."
   ]
  },
  {
   "cell_type": "code",
   "execution_count": 7,
   "id": "6aac3a65",
   "metadata": {},
   "outputs": [
    {
     "name": "stdout",
     "output_type": "stream",
     "text": [
      "Test Statistic: 0.03999058396053001\n",
      "P-Value: 0.9609794795752092\n"
     ]
    }
   ],
   "source": [
    "# %pip install statsmodels\n",
    "\n",
    "\n",
    "import importlib.util\n",
    "import sys\n",
    "import os\n",
    "\n",
    "# Dynamically load BIOM480Tests.py from current directory\n",
    "module_path = os.path.abspath(\"BIOM480Tests.py\")\n",
    "spec = importlib.util.spec_from_file_location(\"BIOM480Tests\", module_path)\n",
    "BIOM480Tests = importlib.util.module_from_spec(spec)\n",
    "sys.modules[\"BIOM480Tests\"] = BIOM480Tests\n",
    "spec.loader.exec_module(BIOM480Tests)\n",
    "\n",
    "\n",
    "import numpy as np\n",
    "from BIOM480Tests import lilliefors\n",
    "\n",
    "# Generate sample data\n",
    "data = np.random.normal(loc=0, scale=1, size=100)\n",
    "\n",
    "# Run the test\n",
    "stat, p_value = lilliefors(data)\n",
    "print(\"Test Statistic:\", stat)\n",
    "print(\"P-Value:\", p_value)"
   ]
  }
 ],
 "metadata": {
  "kernelspec": {
   "display_name": "BIOM480A5",
   "language": "python",
   "name": "python3"
  },
  "language_info": {
   "codemirror_mode": {
    "name": "ipython",
    "version": 3
   },
   "file_extension": ".py",
   "mimetype": "text/x-python",
   "name": "python",
   "nbconvert_exporter": "python",
   "pygments_lexer": "ipython3",
   "version": "3.10.16"
  }
 },
 "nbformat": 4,
 "nbformat_minor": 5
}
