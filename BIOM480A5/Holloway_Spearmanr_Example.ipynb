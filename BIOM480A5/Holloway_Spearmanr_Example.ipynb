{
 "cells": [
  {
   "cell_type": "markdown",
   "metadata": {},
   "source": [
    "Spearman Correlation Test\n",
    "\n",
    "The Spearman correlation test uses the Spearman correlation coefficient to measure the strength and direction between two ranked variables [1]. First, data needs to be ranked, with the highest value being assigned a 1 and the lowest value a 0. With the ranked values, the Spearman correlation coefficient is calculated with the following formula:\n",
    "\n",
    "![Figure 1](https://statistics.laerd.com/statistical-guides/img/spearman-2.jpg)\n",
    "\n",
    "From this formula, the Spearman correlation coefficient, r, can be between +1 and -1. +1 showcases a perfect association of ranks, and -1 showcases a perfect negative association of ranks. Spearman correlation test can evaluate the association of non-linear data and assesses monotonic relationships.\n",
    "\n",
    "\n",
    "![Figure 2](https://upload.wikimedia.org/wikipedia/commons/thumb/4/4e/Spearman_fig1.svg/450px-Spearman_fig1.svg.png)\n",
    "    \n",
    "Figure 2: Monotonic relationship evaluated through a Spearman correlation test.\n",
    "    \n",
    "Sources:\n",
    "\n",
    "[1] Laerd Statistics. (2018). Spearman’s Rank-Order Correlation. Laerd Statistics. https://statistics.laerd.com/statistical-guides/spearmans-rank-order-correlation-statistical-guide.php\\n\",\n",
    "\n",
    "[2] Wikipedia Contributors. (2019, September 7). Spearman’s rank correlation coefficient. Wikipedia; Wikimedia Foundation. https://en.wikipedia.org/wiki/Spearman%27s_rank_correlation_coefficient\\n\"\n",
    "   \n",
    "\n",
    "    "
   ]
  },
  {
   "cell_type": "code",
   "execution_count": null,
   "metadata": {},
   "outputs": [],
   "source": [
    "#Example Code\n",
    "\n",
    "# Creating simulated x and y data to run the example\n",
    "\n",
    "import numpy as np\n",
    "import matplotlib.pyplot as plt\n",
    "import pandas as pd\n",
    "\n",
    "#random seed for reproducibility\n",
    "x = np.random.rand(1000) * 10\n",
    "y = np.random.rand(1000) * 10\n",
    "\n",
    "#pulling the code from BIOM480Tests.py to run the example\n",
    "\n",
    "import BIOM480Tests as tests\n",
    "\n",
    "#finding Spearman's rank correlation coefficient and p-value, remember that the function is spearmanr(x,y)\n",
    "# where x and y are the two variables you want to test\n",
    "\n",
    "results = tests.spearmanr(x, y)\n",
    "print(\"Spearman's rank correlation coefficient: \", results[0])\n",
    "print(\"p-value: \", results[1])\n"
   ]
  }
 ],
 "metadata": {
  "kernelspec": {
   "display_name": "BIOM480A5",
   "language": "python",
   "name": "python3"
  },
  "language_info": {
   "codemirror_mode": {
    "name": "ipython",
    "version": 3
   },
   "file_extension": ".py",
   "mimetype": "text/x-python",
   "name": "python",
   "nbconvert_exporter": "python",
   "pygments_lexer": "ipython3",
   "version": "3.10.16"
  }
 },
 "nbformat": 4,
 "nbformat_minor": 2
}
